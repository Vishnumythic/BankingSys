{
 "cells": [
  {
   "cell_type": "code",
   "execution_count": 13,
   "id": "86f9653c",
   "metadata": {},
   "outputs": [
    {
     "name": "stdout",
     "output_type": "stream",
     "text": [
      "Enter your name:idhidh\n",
      "Enter your address:jhbd\n",
      "Enter your number:13133231\n",
      "Enter your Aadhar no:31313\n",
      "Enter the amt you want to deposit:3333\n",
      "Enter the amt you want to withdraw:3333\n",
      "Cash deposited:INR 3333 in Acc no. 13133231\n"
     ]
    }
   ],
   "source": [
    "class Login:\n",
    "    name=input(\"Enter your name:\")\n",
    "    _address=input(\"Enter your address:\")\n",
    "    _phone=int(input(\"Enter your number:\"))\n",
    "    __Aadhar=int(input(\"Enter your Aadhar no:\"))\n",
    "    def _Acc(self):\n",
    "        user=input(\"Enter your username:\")\n",
    "        password=input(\"Enter your password:\")\n",
    "        print(\"Acc number:\",self._phone)\n",
    "        print(\"SBIN00456\")    \n",
    "class Deposit(Login):\n",
    "    dep=int(input(\"Enter the amt you want to deposit:\"))\n",
    "    def amt_dep(self):\n",
    "        print(\"Cash deposited:INR\",self.dep,\"in Acc no.\",self._phone)\n",
    "class Withdrawal(Login):\n",
    "    withdraw=int(input(\"Enter the amt you want to withdraw:\"))\n",
    "    def amt_withdraw(self):\n",
    "        print(\"Cash debited:INR\",self.withdraw,\"from Acc no.\",self._phone)\n",
    "class Balance(Deposit,Withdrawal):\n",
    "    def bal(self):\n",
    "        print(\"Avl bal:\",self.dep-self.withdraw)\n",
    "v1=Deposit()\n",
    "v1.amt_dep()"
   ]
  },
  {
   "cell_type": "code",
   "execution_count": null,
   "id": "d50fc27d",
   "metadata": {},
   "outputs": [],
   "source": []
  },
  {
   "cell_type": "code",
   "execution_count": null,
   "id": "3ff098e9",
   "metadata": {},
   "outputs": [],
   "source": []
  },
  {
   "cell_type": "code",
   "execution_count": null,
   "id": "ddd8243e",
   "metadata": {},
   "outputs": [],
   "source": []
  }
 ],
 "metadata": {
  "kernelspec": {
   "display_name": "Python 3 (ipykernel)",
   "language": "python",
   "name": "python3"
  },
  "language_info": {
   "codemirror_mode": {
    "name": "ipython",
    "version": 3
   },
   "file_extension": ".py",
   "mimetype": "text/x-python",
   "name": "python",
   "nbconvert_exporter": "python",
   "pygments_lexer": "ipython3",
   "version": "3.11.7"
  }
 },
 "nbformat": 4,
 "nbformat_minor": 5
}
